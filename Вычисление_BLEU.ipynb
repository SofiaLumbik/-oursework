{
  "nbformat": 4,
  "nbformat_minor": 0,
  "metadata": {
    "colab": {
      "provenance": [],
      "authorship_tag": "ABX9TyPpLC8pmM51q3DBtw/l6iHm",
      "include_colab_link": true
    },
    "kernelspec": {
      "name": "python3",
      "display_name": "Python 3"
    },
    "language_info": {
      "name": "python"
    }
  },
  "cells": [
    {
      "cell_type": "markdown",
      "metadata": {
        "id": "view-in-github",
        "colab_type": "text"
      },
      "source": [
        "<a href=\"https://colab.research.google.com/github/SofiaLumbik/Coursework/blob/main/%D0%92%D1%8B%D1%87%D0%B8%D1%81%D0%BB%D0%B5%D0%BD%D0%B8%D0%B5_BLEU.ipynb\" target=\"_parent\"><img src=\"https://colab.research.google.com/assets/colab-badge.svg\" alt=\"Open In Colab\"/></a>"
      ]
    },
    {
      "cell_type": "code",
      "source": [
        "import nltk\n",
        "from nltk.translate.bleu_score import sentence_bleu, SmoothingFunction\n",
        "\n",
        "# Определяем эталонный текст (референс)\n",
        "reference = \"One day went forest walking alone looking around Everything beautiful saw little bird singing chirping flew away kept walking saw bear cub distance got scared ran away came home mom waiting ate went sleep long time kept remembering adventure\"\n",
        "\n",
        "# Определяем текст, сгенерированный нашей программой (гипотеза)\n",
        "hypothesis = \"one day went forest walking alone looking around everything beautiful saw little bird singing chirping flew kept walking saw bear cub distance got scared ran away came home mom already waiting ate went sleep long time remembering adventure\"\n",
        "\n",
        "bleu = nltk.translate.bleu_score.sentence_bleu([reference], hypothesis)\n",
        "print(f\"BLEU score: {bleu}\")"
      ],
      "metadata": {
        "colab": {
          "base_uri": "https://localhost:8080/"
        },
        "id": "jyw1Xh9rJc6U",
        "outputId": "007604e5-9b4a-4774-d503-1a6e48f4ea72"
      },
      "execution_count": 7,
      "outputs": [
        {
          "output_type": "stream",
          "name": "stdout",
          "text": [
            "BLEU score: 0.9411805568275559\n"
          ]
        }
      ]
    }
  ]
}