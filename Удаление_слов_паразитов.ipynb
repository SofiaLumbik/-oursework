{
  "cells": [
    {
      "cell_type": "markdown",
      "metadata": {
        "id": "view-in-github",
        "colab_type": "text"
      },
      "source": [
        "<a href=\"https://colab.research.google.com/github/SofiaLumbik/Coursework/blob/main/%D0%A3%D0%B4%D0%B0%D0%BB%D0%B5%D0%BD%D0%B8%D0%B5_%D1%81%D0%BB%D0%BE%D0%B2_%D0%BF%D0%B0%D1%80%D0%B0%D0%B7%D0%B8%D1%82%D0%BE%D0%B2.ipynb\" target=\"_parent\"><img src=\"https://colab.research.google.com/assets/colab-badge.svg\" alt=\"Open In Colab\"/></a>"
      ]
    },
    {
      "cell_type": "code",
      "execution_count": 2,
      "metadata": {
        "colab": {
          "base_uri": "https://localhost:8080/"
        },
        "id": "AnbXzqfZBexo",
        "outputId": "c1c10a22-163a-4d5b-ce84-de76c261130b"
      },
      "outputs": [
        {
          "output_type": "stream",
          "name": "stdout",
          "text": [
            "Collecting git+https://github.com/openai/whisper.git\n",
            "  Cloning https://github.com/openai/whisper.git to /tmp/pip-req-build-rviqa7sj\n",
            "  Running command git clone --filter=blob:none --quiet https://github.com/openai/whisper.git /tmp/pip-req-build-rviqa7sj\n",
            "  Resolved https://github.com/openai/whisper.git to commit ba3f3cd54b0e5b8ce1ab3de13e32122d0d5f98ab\n",
            "  Installing build dependencies ... \u001b[?25l\u001b[?25hdone\n",
            "  Getting requirements to build wheel ... \u001b[?25l\u001b[?25hdone\n",
            "  Preparing metadata (pyproject.toml) ... \u001b[?25l\u001b[?25hdone\n",
            "Requirement already satisfied: numba in /usr/local/lib/python3.10/dist-packages (from openai-whisper==20231117) (0.58.1)\n",
            "Requirement already satisfied: numpy in /usr/local/lib/python3.10/dist-packages (from openai-whisper==20231117) (1.25.2)\n",
            "Requirement already satisfied: torch in /usr/local/lib/python3.10/dist-packages (from openai-whisper==20231117) (2.2.1+cu121)\n",
            "Requirement already satisfied: tqdm in /usr/local/lib/python3.10/dist-packages (from openai-whisper==20231117) (4.66.4)\n",
            "Requirement already satisfied: more-itertools in /usr/local/lib/python3.10/dist-packages (from openai-whisper==20231117) (10.1.0)\n",
            "Collecting tiktoken (from openai-whisper==20231117)\n",
            "  Downloading tiktoken-0.6.0-cp310-cp310-manylinux_2_17_x86_64.manylinux2014_x86_64.whl (1.8 MB)\n",
            "\u001b[2K     \u001b[90m━━━━━━━━━━━━━━━━━━━━━━━━━━━━━━━━━━━━━━━━\u001b[0m \u001b[32m1.8/1.8 MB\u001b[0m \u001b[31m11.0 MB/s\u001b[0m eta \u001b[36m0:00:00\u001b[0m\n",
            "\u001b[?25hRequirement already satisfied: triton<3,>=2.0.0 in /usr/local/lib/python3.10/dist-packages (from openai-whisper==20231117) (2.2.0)\n",
            "Requirement already satisfied: filelock in /usr/local/lib/python3.10/dist-packages (from triton<3,>=2.0.0->openai-whisper==20231117) (3.14.0)\n",
            "Requirement already satisfied: llvmlite<0.42,>=0.41.0dev0 in /usr/local/lib/python3.10/dist-packages (from numba->openai-whisper==20231117) (0.41.1)\n",
            "Requirement already satisfied: regex>=2022.1.18 in /usr/local/lib/python3.10/dist-packages (from tiktoken->openai-whisper==20231117) (2023.12.25)\n",
            "Requirement already satisfied: requests>=2.26.0 in /usr/local/lib/python3.10/dist-packages (from tiktoken->openai-whisper==20231117) (2.31.0)\n",
            "Requirement already satisfied: typing-extensions>=4.8.0 in /usr/local/lib/python3.10/dist-packages (from torch->openai-whisper==20231117) (4.11.0)\n",
            "Requirement already satisfied: sympy in /usr/local/lib/python3.10/dist-packages (from torch->openai-whisper==20231117) (1.12)\n",
            "Requirement already satisfied: networkx in /usr/local/lib/python3.10/dist-packages (from torch->openai-whisper==20231117) (3.3)\n",
            "Requirement already satisfied: jinja2 in /usr/local/lib/python3.10/dist-packages (from torch->openai-whisper==20231117) (3.1.3)\n",
            "Requirement already satisfied: fsspec in /usr/local/lib/python3.10/dist-packages (from torch->openai-whisper==20231117) (2023.6.0)\n",
            "Collecting nvidia-cuda-nvrtc-cu12==12.1.105 (from torch->openai-whisper==20231117)\n",
            "  Using cached nvidia_cuda_nvrtc_cu12-12.1.105-py3-none-manylinux1_x86_64.whl (23.7 MB)\n",
            "Collecting nvidia-cuda-runtime-cu12==12.1.105 (from torch->openai-whisper==20231117)\n",
            "  Using cached nvidia_cuda_runtime_cu12-12.1.105-py3-none-manylinux1_x86_64.whl (823 kB)\n",
            "Collecting nvidia-cuda-cupti-cu12==12.1.105 (from torch->openai-whisper==20231117)\n",
            "  Using cached nvidia_cuda_cupti_cu12-12.1.105-py3-none-manylinux1_x86_64.whl (14.1 MB)\n",
            "Collecting nvidia-cudnn-cu12==8.9.2.26 (from torch->openai-whisper==20231117)\n",
            "  Using cached nvidia_cudnn_cu12-8.9.2.26-py3-none-manylinux1_x86_64.whl (731.7 MB)\n",
            "Collecting nvidia-cublas-cu12==12.1.3.1 (from torch->openai-whisper==20231117)\n",
            "  Using cached nvidia_cublas_cu12-12.1.3.1-py3-none-manylinux1_x86_64.whl (410.6 MB)\n",
            "Collecting nvidia-cufft-cu12==11.0.2.54 (from torch->openai-whisper==20231117)\n",
            "  Using cached nvidia_cufft_cu12-11.0.2.54-py3-none-manylinux1_x86_64.whl (121.6 MB)\n",
            "Collecting nvidia-curand-cu12==10.3.2.106 (from torch->openai-whisper==20231117)\n",
            "  Using cached nvidia_curand_cu12-10.3.2.106-py3-none-manylinux1_x86_64.whl (56.5 MB)\n",
            "Collecting nvidia-cusolver-cu12==11.4.5.107 (from torch->openai-whisper==20231117)\n",
            "  Using cached nvidia_cusolver_cu12-11.4.5.107-py3-none-manylinux1_x86_64.whl (124.2 MB)\n",
            "Collecting nvidia-cusparse-cu12==12.1.0.106 (from torch->openai-whisper==20231117)\n",
            "  Using cached nvidia_cusparse_cu12-12.1.0.106-py3-none-manylinux1_x86_64.whl (196.0 MB)\n",
            "Collecting nvidia-nccl-cu12==2.19.3 (from torch->openai-whisper==20231117)\n",
            "  Using cached nvidia_nccl_cu12-2.19.3-py3-none-manylinux1_x86_64.whl (166.0 MB)\n",
            "Collecting nvidia-nvtx-cu12==12.1.105 (from torch->openai-whisper==20231117)\n",
            "  Using cached nvidia_nvtx_cu12-12.1.105-py3-none-manylinux1_x86_64.whl (99 kB)\n",
            "Collecting nvidia-nvjitlink-cu12 (from nvidia-cusolver-cu12==11.4.5.107->torch->openai-whisper==20231117)\n",
            "  Using cached nvidia_nvjitlink_cu12-12.4.127-py3-none-manylinux2014_x86_64.whl (21.1 MB)\n",
            "Requirement already satisfied: charset-normalizer<4,>=2 in /usr/local/lib/python3.10/dist-packages (from requests>=2.26.0->tiktoken->openai-whisper==20231117) (3.3.2)\n",
            "Requirement already satisfied: idna<4,>=2.5 in /usr/local/lib/python3.10/dist-packages (from requests>=2.26.0->tiktoken->openai-whisper==20231117) (3.7)\n",
            "Requirement already satisfied: urllib3<3,>=1.21.1 in /usr/local/lib/python3.10/dist-packages (from requests>=2.26.0->tiktoken->openai-whisper==20231117) (2.0.7)\n",
            "Requirement already satisfied: certifi>=2017.4.17 in /usr/local/lib/python3.10/dist-packages (from requests>=2.26.0->tiktoken->openai-whisper==20231117) (2024.2.2)\n",
            "Requirement already satisfied: MarkupSafe>=2.0 in /usr/local/lib/python3.10/dist-packages (from jinja2->torch->openai-whisper==20231117) (2.1.5)\n",
            "Requirement already satisfied: mpmath>=0.19 in /usr/local/lib/python3.10/dist-packages (from sympy->torch->openai-whisper==20231117) (1.3.0)\n",
            "Building wheels for collected packages: openai-whisper\n",
            "  Building wheel for openai-whisper (pyproject.toml) ... \u001b[?25l\u001b[?25hdone\n",
            "  Created wheel for openai-whisper: filename=openai_whisper-20231117-py3-none-any.whl size=802826 sha256=c88227487d5425c86722eac806e89375daef7f3cd0c2b8d5dcd952afdfa60b18\n",
            "  Stored in directory: /tmp/pip-ephem-wheel-cache-12h4bias/wheels/8b/6c/d0/622666868c179f156cf595c8b6f06f88bc5d80c4b31dccaa03\n",
            "Successfully built openai-whisper\n",
            "Installing collected packages: nvidia-nvtx-cu12, nvidia-nvjitlink-cu12, nvidia-nccl-cu12, nvidia-curand-cu12, nvidia-cufft-cu12, nvidia-cuda-runtime-cu12, nvidia-cuda-nvrtc-cu12, nvidia-cuda-cupti-cu12, nvidia-cublas-cu12, tiktoken, nvidia-cusparse-cu12, nvidia-cudnn-cu12, nvidia-cusolver-cu12, openai-whisper\n",
            "Successfully installed nvidia-cublas-cu12-12.1.3.1 nvidia-cuda-cupti-cu12-12.1.105 nvidia-cuda-nvrtc-cu12-12.1.105 nvidia-cuda-runtime-cu12-12.1.105 nvidia-cudnn-cu12-8.9.2.26 nvidia-cufft-cu12-11.0.2.54 nvidia-curand-cu12-10.3.2.106 nvidia-cusolver-cu12-11.4.5.107 nvidia-cusparse-cu12-12.1.0.106 nvidia-nccl-cu12-2.19.3 nvidia-nvjitlink-cu12-12.4.127 nvidia-nvtx-cu12-12.1.105 openai-whisper-20231117 tiktoken-0.6.0\n",
            "Hit:1 https://developer.download.nvidia.com/compute/cuda/repos/ubuntu2204/x86_64  InRelease\n",
            "Get:2 http://security.ubuntu.com/ubuntu jammy-security InRelease [110 kB]\n",
            "Hit:3 http://archive.ubuntu.com/ubuntu jammy InRelease\n",
            "Get:4 http://archive.ubuntu.com/ubuntu jammy-updates InRelease [119 kB]\n",
            "Hit:5 https://ppa.launchpadcontent.net/c2d4u.team/c2d4u4.0+/ubuntu jammy InRelease\n",
            "Get:6 https://cloud.r-project.org/bin/linux/ubuntu jammy-cran40/ InRelease [3,626 B]\n",
            "Hit:7 https://ppa.launchpadcontent.net/deadsnakes/ppa/ubuntu jammy InRelease\n",
            "Hit:8 https://ppa.launchpadcontent.net/graphics-drivers/ppa/ubuntu jammy InRelease\n",
            "Hit:9 https://ppa.launchpadcontent.net/ubuntugis/ppa/ubuntu jammy InRelease\n",
            "Get:10 http://archive.ubuntu.com/ubuntu jammy-backports InRelease [109 kB]\n",
            "Get:11 http://security.ubuntu.com/ubuntu jammy-security/restricted amd64 Packages [2,308 kB]\n",
            "Get:12 http://security.ubuntu.com/ubuntu jammy-security/main amd64 Packages [1,789 kB]\n",
            "Get:13 http://archive.ubuntu.com/ubuntu jammy-updates/main amd64 Packages [2,069 kB]\n",
            "Get:14 http://archive.ubuntu.com/ubuntu jammy-updates/universe amd64 Packages [1,373 kB]\n",
            "Get:15 http://archive.ubuntu.com/ubuntu jammy-backports/universe amd64 Packages [31.9 kB]\n",
            "Fetched 7,913 kB in 2s (3,796 kB/s)\n",
            "Reading package lists... Done\n",
            "Building dependency tree... Done\n",
            "Reading state information... Done\n",
            "48 packages can be upgraded. Run 'apt list --upgradable' to see them.\n",
            "Reading package lists... Done\n",
            "Building dependency tree... Done\n",
            "Reading state information... Done\n",
            "ffmpeg is already the newest version (7:4.4.2-0ubuntu0.22.04.1).\n",
            "0 upgraded, 0 newly installed, 0 to remove and 48 not upgraded.\n"
          ]
        }
      ],
      "source": [
        "!pip install git+https://github.com/openai/whisper.git\n",
        "!sudo apt update && sudo apt install ffmpeg # Загружаем актуальную версию whisper"
      ]
    },
    {
      "cell_type": "markdown",
      "metadata": {
        "id": "6AxpUB-xCYsM"
      },
      "source": [
        "Модель \"medium\"\n"
      ]
    },
    {
      "cell_type": "code",
      "execution_count": 15,
      "metadata": {
        "id": "BqcxiesSCFre",
        "colab": {
          "base_uri": "https://localhost:8080/"
        },
        "outputId": "a8757079-9466-4971-cf8c-1f82e1f71a96"
      },
      "outputs": [
        {
          "output_type": "stream",
          "name": "stdout",
          "text": [
            " В настоящее время каждый житель нашей планеты производит в среднем около 1 тонны бытовых отходов в год. Ботовые отходы – это многокомпонентная смесь, содержащая полимерные материалы, металлы, стекло, бумагу и пищевые отходы. В бытовых отходах содержится большое количество опасных химических веществ – ртуть из батареек, люмиену, форы из флюрисцентных ламп, токсичные бытовые растворители, химические компоненты, органно-растворимые красок и материалы для защиты деревянных покрытий, которые влияют на здоровье населения и загрязняют окружающую среду.\n"
          ]
        }
      ],
      "source": [
        "import whisper # Импортируем модуль whisper\n",
        "model=whisper.load_model('medium') # Загружаем размер модели medium (можно указать любую модель Whisper(base,tiny,small, medium, large))\n",
        "result=model.transcribe('рус1.mp3', fp16=False)  # Транскрибация файла. Файл необходимо загрузить в colab,раздел \"файлы\". Параметр fp16=False указывает на использование 32-битного числового формата при транскрибировании.\n",
        "result_text=result['text'] # Результат работы модели сохраняется в переменную result\n",
        "print(result_text)\n"
      ]
    },
    {
      "cell_type": "code",
      "source": [
        "from google.colab import drive\n",
        "drive.mount('/content/drive')"
      ],
      "metadata": {
        "id": "C8cfympB9Lwl",
        "colab": {
          "base_uri": "https://localhost:8080/"
        },
        "outputId": "a9e7d5e1-ff8c-4737-b481-9dd09bee07a2"
      },
      "execution_count": 16,
      "outputs": [
        {
          "output_type": "stream",
          "name": "stdout",
          "text": [
            "Drive already mounted at /content/drive; to attempt to forcibly remount, call drive.mount(\"/content/drive\", force_remount=True).\n"
          ]
        }
      ]
    },
    {
      "cell_type": "code",
      "source": [
        "result_text = result_text.lower() #Перевод в нижний регистр\n",
        "result_text2 = result_text.replace('.', '').replace(',', '').replace('–', '').replace('!', '').replace('?', '') #Чистим текст от знаков пунктуации\n",
        "result_text3 = result_text2.replace(\"wasn't\", \"was not\").replace(\"'m\", \"am\").replace(\"'re\", \"are\").replace(\"'s\", \"is\").replace(\"'d\", \"would\").replace(\"'d\", \"had\").replace(\"'d\", \"did\").replace(\"'ll\", \"will\").replace(\"'ve\", \"have\").replace(\"n't\", \"not\").replace(\"can't\", \"cannot\").replace(\"won't\", \"will not\").replace(\"shan't\", \"shall not\").replace(\"wouldn't\", \"would not\").replace(\"couldn't\", \"could not\").replace(\"shouldn't\", \"should not\").replace(\"mustn't\", \"must not\").replace(\"hasn't\", \"has not\").replace(\"haven't\", \"have not\").replace(\"hadn't\", \"had not\").replace(\"isn't\", \"is not\").replace(\"aren't\", \"are not\").replace(\"weren't\", \"were not\").replace(\"don't\", \"do not\").replace(\"doesn't\", \"does not\").replace(\"didn't\", \"did not\").replace(\"ain't\", \"am not\").replace(\"ain't\", \"is not\").replace(\"ain't\", \"are not\").replace(\"let's\", \"let us\").replace(\"needs't\", \"needs not\").replace(\"use't\", \"used not\").replace(\"dare't\", \"dare not\").replace(\"may'd\", \"may would\").replace(\"may'd\", \"may had\").replace(\"might'd\", \"might would\").replace(\"might'd\", \"might had\").replace(\"must'd\", \"must would\").replace(\"must'd\", \"must had\").replace(\"shall'd\", \"shall would\").replace(\"shall'd\", \"shall had\").replace(\"should'd\", \"should would\").replace(\"should'd\", \"should had\").replace(\"will'd\", \"will would\").replace(\"will'd\", \"will had\").replace(\"would'd\", \"would would\").replace(\"would'd\", \"would had\")\n",
        "\n",
        "print(result_text3)"
      ],
      "metadata": {
        "id": "ygzuitobgr04",
        "colab": {
          "base_uri": "https://localhost:8080/"
        },
        "outputId": "a8b4cf89-599b-440a-cbfe-a9cc8869f209"
      },
      "execution_count": 17,
      "outputs": [
        {
          "output_type": "stream",
          "name": "stdout",
          "text": [
            " в настоящее время каждый житель нашей планеты производит в среднем около 1 тонны бытовых отходов в год ботовые отходы  это многокомпонентная смесь содержащая полимерные материалы металлы стекло бумагу и пищевые отходы в бытовых отходах содержится большое количество опасных химических веществ  ртуть из батареек люмиену форы из флюрисцентных ламп токсичные бытовые растворители химические компоненты органно-растворимые красок и материалы для защиты деревянных покрытий которые влияют на здоровье населения и загрязняют окружающую среду\n"
          ]
        }
      ]
    },
    {
      "cell_type": "code",
      "execution_count": 18,
      "metadata": {
        "id": "b7TaMKaQTtHF",
        "colab": {
          "base_uri": "https://localhost:8080/"
        },
        "outputId": "4584f685-240c-43fa-babf-01f37fb925b0"
      },
      "outputs": [
        {
          "output_type": "stream",
          "name": "stderr",
          "text": [
            "[nltk_data] Downloading package stopwords to /root/nltk_data...\n",
            "[nltk_data]   Package stopwords is already up-to-date!\n",
            "[nltk_data] Downloading package punkt to /root/nltk_data...\n",
            "[nltk_data]   Package punkt is already up-to-date!\n"
          ]
        },
        {
          "output_type": "execute_result",
          "data": {
            "text/plain": [
              "True"
            ]
          },
          "metadata": {},
          "execution_count": 18
        }
      ],
      "source": [
        "import nltk # Импортируем библиотеку nltk\n",
        "nltk.download('stopwords') # Импортируем корпус с русскими стоп-словами\n",
        "nltk.download('punkt') # Загружаем необходимые данные punkt, которые используются для токенизации текста."
      ]
    },
    {
      "cell_type": "code",
      "source": [
        "from nltk.corpus import stopwords\n",
        "from nltk.tokenize import word_tokenize\n",
        "\n",
        "tokens = word_tokenize(result_text3) # Разбиваем текст на слова\n",
        "\n",
        "stop_words = stopwords.words('russian') # Русские слова-паразиты\n",
        "stop_words += stopwords.words('english') # Английские слова-паразиты\n",
        "\n",
        "newStopWords = ['короче', 'алло', 'таки', 'там', 'вот', 'так', 'уже', 'такой', 'такая', 'такие', 'как', 'бы', 'то', 'есть', 'эта', 'ну', 'блин', 'вообще', 'вон', 'это']\n",
        "stop_words.extend(newStopWords) #Расширяем список русских слов-паразитов\n",
        "\n",
        "filtered_tokens = [word for word in tokens if word not in stop_words] # Очищаем текст от слов-паразитов\n",
        "\n",
        "print(filtered_tokens)"
      ],
      "metadata": {
        "colab": {
          "base_uri": "https://localhost:8080/"
        },
        "id": "kPOO89WJLOVD",
        "outputId": "b1da3adc-1bb5-4503-8fcf-0797e2ea1355"
      },
      "execution_count": 19,
      "outputs": [
        {
          "output_type": "stream",
          "name": "stdout",
          "text": [
            "['настоящее', 'время', 'каждый', 'житель', 'нашей', 'планеты', 'производит', 'среднем', 'около', '1', 'тонны', 'бытовых', 'отходов', 'год', 'ботовые', 'отходы', 'многокомпонентная', 'смесь', 'содержащая', 'полимерные', 'материалы', 'металлы', 'стекло', 'бумагу', 'пищевые', 'отходы', 'бытовых', 'отходах', 'содержится', 'большое', 'количество', 'опасных', 'химических', 'веществ', 'ртуть', 'батареек', 'люмиену', 'форы', 'флюрисцентных', 'ламп', 'токсичные', 'бытовые', 'растворители', 'химические', 'компоненты', 'органно-растворимые', 'красок', 'материалы', 'защиты', 'деревянных', 'покрытий', 'которые', 'влияют', 'здоровье', 'населения', 'загрязняют', 'окружающую', 'среду']\n"
          ]
        }
      ]
    }
  ],
  "metadata": {
    "colab": {
      "provenance": [],
      "include_colab_link": true
    },
    "kernelspec": {
      "display_name": "Python 3",
      "name": "python3"
    },
    "language_info": {
      "name": "python"
    }
  },
  "nbformat": 4,
  "nbformat_minor": 0
}