{
  "cells": [
    {
      "cell_type": "markdown",
      "metadata": {
        "id": "view-in-github",
        "colab_type": "text"
      },
      "source": [
        "<a href=\"https://colab.research.google.com/github/SofiaLumbik/Coursework/blob/main/%D0%A3%D0%B4%D0%B0%D0%BB%D0%B5%D0%BD%D0%B8%D0%B5_%D1%81%D0%BB%D0%BE%D0%B2_%D0%BF%D0%B0%D1%80%D0%B0%D0%B7%D0%B8%D1%82%D0%BE%D0%B2_(for_app).ipynb\" target=\"_parent\"><img src=\"https://colab.research.google.com/assets/colab-badge.svg\" alt=\"Open In Colab\"/></a>"
      ]
    },
    {
      "cell_type": "code",
      "source": [
        "from google.colab import drive\n",
        "drive.mount('/content/drive')"
      ],
      "metadata": {
        "id": "C8cfympB9Lwl",
        "colab": {
          "base_uri": "https://localhost:8080/"
        },
        "outputId": "45939d7c-413a-4dd6-eef6-a00c9c2e380e"
      },
      "execution_count": 1,
      "outputs": [
        {
          "output_type": "stream",
          "name": "stdout",
          "text": [
            "Mounted at /content/drive\n"
          ]
        }
      ]
    },
    {
      "cell_type": "code",
      "source": [
        "result_text = \"В настоящее время каждый житель нашей планеты производит в среднем около 1 тонны бытовых отходов в год. Бытовые отходы – это многокомпонентная смесь, содержащая полимерные материалы, металлы, стекло, бумагу и пищевые отходы. В бытовых отходах содержится большое количество опасных химических веществ - ртуть из батареек, люминофоры из флюрисцентных ламп, токсичные бытовые растворители, химические компоненты, органорасторимые краски и материалы для защиты деревянных покрытий, которые влияют на здоровье населения и загрязняют окружающую среду.\""
      ],
      "metadata": {
        "id": "S8VX8Fmrljbf"
      },
      "execution_count": 6,
      "outputs": []
    },
    {
      "cell_type": "code",
      "source": [
        "import string\n",
        "\n",
        "result_text = result_text.lower() #Перевод в нижний регистр\n",
        "# Удаление знаков препинания\n",
        "#text_no_punct = result_text.translate(str.maketrans('', '', string.punctuation))\n",
        "result_text2 = result_text.replace('.', '').replace(',', '').replace('–', '').replace('!', '').replace('?', '') #Чистим текст от знаков пунктуации\n",
        "result_text3 = result_text2.replace(\"wasn't\", \"was not\").replace(\"'m\", \"am\").replace(\"'re\", \"are\").replace(\"'s\", \"is\").replace(\"'d\", \"would\").replace(\"'d\", \"had\").replace(\"'d\", \"did\").replace(\"'ll\", \"will\").replace(\"'ve\", \"have\").replace(\"n't\", \"not\").replace(\"can't\", \"cannot\").replace(\"won't\", \"will not\").replace(\"shan't\", \"shall not\").replace(\"wouldn't\", \"would not\").replace(\"couldn't\", \"could not\").replace(\"shouldn't\", \"should not\").replace(\"mustn't\", \"must not\").replace(\"hasn't\", \"has not\").replace(\"haven't\", \"have not\").replace(\"hadn't\", \"had not\").replace(\"isn't\", \"is not\").replace(\"aren't\", \"are not\").replace(\"weren't\", \"were not\").replace(\"don't\", \"do not\").replace(\"doesn't\", \"does not\").replace(\"didn't\", \"did not\").replace(\"ain't\", \"am not\").replace(\"ain't\", \"is not\").replace(\"ain't\", \"are not\").replace(\"let's\", \"let us\").replace(\"needs't\", \"needs not\").replace(\"use't\", \"used not\").replace(\"dare't\", \"dare not\").replace(\"may'd\", \"may would\").replace(\"may'd\", \"may had\").replace(\"might'd\", \"might would\").replace(\"might'd\", \"might had\").replace(\"must'd\", \"must would\").replace(\"must'd\", \"must had\").replace(\"shall'd\", \"shall would\").replace(\"shall'd\", \"shall had\").replace(\"should'd\", \"should would\").replace(\"should'd\", \"should had\").replace(\"will'd\", \"will would\").replace(\"will'd\", \"will had\").replace(\"would'd\", \"would would\").replace(\"would'd\", \"would had\")\n",
        "\n",
        "print(result_text3)"
      ],
      "metadata": {
        "id": "ygzuitobgr04",
        "colab": {
          "base_uri": "https://localhost:8080/"
        },
        "outputId": "8b2bfcca-066a-48bc-e434-a9be421eb951"
      },
      "execution_count": 7,
      "outputs": [
        {
          "output_type": "stream",
          "name": "stdout",
          "text": [
            "в настоящее время каждый житель нашей планеты производит в среднем около 1 тонны бытовых отходов в год бытовые отходы  это многокомпонентная смесь содержащая полимерные материалы металлы стекло бумагу и пищевые отходы в бытовых отходах содержится большое количество опасных химических веществ - ртуть из батареек люминофоры из флюрисцентных ламп токсичные бытовые растворители химические компоненты органорасторимые краски и материалы для защиты деревянных покрытий которые влияют на здоровье населения и загрязняют окружающую среду\n"
          ]
        }
      ]
    },
    {
      "cell_type": "code",
      "execution_count": 8,
      "metadata": {
        "id": "b7TaMKaQTtHF",
        "colab": {
          "base_uri": "https://localhost:8080/"
        },
        "outputId": "ef3d8e74-ed6e-4189-9565-e7051eae4e14"
      },
      "outputs": [
        {
          "output_type": "stream",
          "name": "stderr",
          "text": [
            "[nltk_data] Downloading package stopwords to /root/nltk_data...\n",
            "[nltk_data]   Package stopwords is already up-to-date!\n",
            "[nltk_data] Downloading package punkt to /root/nltk_data...\n",
            "[nltk_data]   Package punkt is already up-to-date!\n"
          ]
        },
        {
          "output_type": "execute_result",
          "data": {
            "text/plain": [
              "True"
            ]
          },
          "metadata": {},
          "execution_count": 8
        }
      ],
      "source": [
        "import nltk # Импортируем библиотеку nltk\n",
        "nltk.download('stopwords') # Импортируем корпус с русскими стоп-словами\n",
        "nltk.download('punkt') # Загружаем необходимые данные punkt, которые используются для токенизации текста."
      ]
    },
    {
      "cell_type": "code",
      "source": [
        "from nltk.corpus import stopwords\n",
        "from nltk.tokenize import word_tokenize\n",
        "\n",
        "tokens = word_tokenize(result_text3) # Разбиваем текст на слова\n",
        "\n",
        "stop_words = stopwords.words('russian') # Русские слова-паразиты\n",
        "stop_words += stopwords.words('english') # Английские слова-паразиты\n",
        "\n",
        "newStopWords = ['короче', 'алло', 'таки', 'там', 'вот', 'так', 'уже', 'такой', 'такая', 'такие', 'как', 'бы', 'то', 'есть', 'эта', 'ну', 'блин', 'вообще', 'вон', 'это']\n",
        "stop_words.extend(newStopWords) #Расширяем список русских слов-паразитов\n",
        "\n",
        "filtered_tokens = [word for word in tokens if word not in stop_words] # Очищаем текст от слов-паразитов\n",
        "\n",
        "print(filtered_tokens)"
      ],
      "metadata": {
        "colab": {
          "base_uri": "https://localhost:8080/"
        },
        "id": "kPOO89WJLOVD",
        "outputId": "33d3fd1d-f056-4087-c6f4-e28ed5dc3cb3"
      },
      "execution_count": 9,
      "outputs": [
        {
          "output_type": "stream",
          "name": "stdout",
          "text": [
            "['настоящее', 'время', 'каждый', 'житель', 'нашей', 'планеты', 'производит', 'среднем', 'около', '1', 'тонны', 'бытовых', 'отходов', 'год', 'бытовые', 'отходы', 'многокомпонентная', 'смесь', 'содержащая', 'полимерные', 'материалы', 'металлы', 'стекло', 'бумагу', 'пищевые', 'отходы', 'бытовых', 'отходах', 'содержится', 'большое', 'количество', 'опасных', 'химических', 'веществ', '-', 'ртуть', 'батареек', 'люминофоры', 'флюрисцентных', 'ламп', 'токсичные', 'бытовые', 'растворители', 'химические', 'компоненты', 'органорасторимые', 'краски', 'материалы', 'защиты', 'деревянных', 'покрытий', 'которые', 'влияют', 'здоровье', 'населения', 'загрязняют', 'окружающую', 'среду']\n"
          ]
        }
      ]
    }
  ],
  "metadata": {
    "colab": {
      "provenance": [],
      "include_colab_link": true
    },
    "kernelspec": {
      "display_name": "Python 3",
      "name": "python3"
    },
    "language_info": {
      "name": "python"
    }
  },
  "nbformat": 4,
  "nbformat_minor": 0
}